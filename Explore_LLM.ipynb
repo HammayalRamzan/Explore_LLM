{
  "nbformat": 4,
  "nbformat_minor": 0,
  "metadata": {
    "colab": {
      "provenance": [],
      "authorship_tag": "ABX9TyPsGNQRIniuuOi9w7tlOjbD",
      "include_colab_link": true
    },
    "kernelspec": {
      "name": "python3",
      "display_name": "Python 3"
    },
    "language_info": {
      "name": "python"
    }
  },
  "cells": [
    {
      "cell_type": "markdown",
      "metadata": {
        "id": "view-in-github",
        "colab_type": "text"
      },
      "source": [
        "<a href=\"https://colab.research.google.com/github/HammayalRamzan/Explore_LLM/blob/main/Explore_LLM.ipynb\" target=\"_parent\"><img src=\"https://colab.research.google.com/assets/colab-badge.svg\" alt=\"Open In Colab\"/></a>"
      ]
    },
    {
      "cell_type": "code",
      "execution_count": 73,
      "metadata": {
        "id": "CHuZFmbwO9jM"
      },
      "outputs": [],
      "source": [
        "# Install Packages\n",
        "!pip install -q -U langchain\n",
        "!pip install -q -U google-genai\n",
        "!pip install -q -U langchain-google-genai"
      ]
    },
    {
      "cell_type": "code",
      "source": [
        "#Install API key\n",
        "from google.colab import userdata\n",
        "import os\n",
        "os.environ[\"GOOGLE_API_KEY\"] = userdata.get('GOOGLE_API_KEY')"
      ],
      "metadata": {
        "id": "w33spj0bPY8E"
      },
      "execution_count": 74,
      "outputs": []
    },
    {
      "cell_type": "code",
      "source": [
        "from langchain_google_genai import ChatGoogleGenerativeAI\n",
        "from google.genai.types import Content , Part\n",
        "from IPython.display import Markdown,display"
      ],
      "metadata": {
        "id": "M0BxVdaGP8Ni"
      },
      "execution_count": 75,
      "outputs": []
    },
    {
      "cell_type": "code",
      "source": [
        "llm = ChatGoogleGenerativeAI(\n",
        "    model = \"gemini-2.0-flash-exp\",\n",
        "    api_key= userdata.get(\"GOOGLE_API_KEY\"),\n",
        "    temperature=0.5\n",
        ")"
      ],
      "metadata": {
        "id": "JsuvKNIteOC7"
      },
      "execution_count": 76,
      "outputs": []
    },
    {
      "cell_type": "code",
      "source": [
        "import gdown\n",
        "url_1 = \"https://drive.google.com/uc?export=download&id=1vcWNpPH-eBQL1myJu5ix4pQr2uTud_UC\"\n",
        "url_2 = \"https://drive.google.com/uc?export=download&id=1-5lL2l7NWEC8jMe-tVbJvpklSgVbkEHI\"\n",
        "output_path_1 = '/content/Lonely_Moon.mp4'\n",
        "output_path_2 = '/content/Mashroom.mp4'\n",
        "gdown.download(url_1, output_path_1, quiet=True)\n",
        "gdown.download(url_2, output_path_2, quiet=True)\n",
        "print(f\"Video downloaded successfully: {output_path_1}\")\n",
        "print(f\"Video downloaded successfully: {output_path_2}\")"
      ],
      "metadata": {
        "colab": {
          "base_uri": "https://localhost:8080/"
        },
        "id": "GrYivfmBQHCV",
        "outputId": "d63fcd28-a5ec-481c-833b-3e5fe472bd64"
      },
      "execution_count": 77,
      "outputs": [
        {
          "output_type": "stream",
          "name": "stdout",
          "text": [
            "Video downloaded successfully: /content/Lonely_Moon.mp4\n",
            "Video downloaded successfully: /content/Mashroom.mp4\n"
          ]
        }
      ]
    },
    {
      "cell_type": "code",
      "source": [
        "import time\n",
        "from google import genai\n",
        "\n",
        "client = genai.Client(api_key=userdata.get(\"GOOGLE_API_KEY\"))\n",
        "video_1_moon = \"/content/Lonely_Moon.mp4\"\n",
        "video_2_mushroom = \"/content/Mashroom.mp4\"\n",
        "\n",
        "def upload_video(video_file_name):\n",
        "  video_file = client.files.upload(path = video_file_name)\n",
        "  while video_file.state == \"PROCESSING\":\n",
        "    print(\"Video Is Being Processed , Kindly Wait!\")\n",
        "    time.sleep(10)\n",
        "    video_file = client.files.get(name = video_file.name or \"\")\n",
        "  if video_file.state == \"SUCCESS\":\n",
        "    pass\n",
        "  elif video_file.state == \"FAILED\":\n",
        "    raise ValueError(video_file.state)\n",
        "  print(f'Video processing complete: ' + (video_file.uri or \"\"))\n",
        "  return video_file"
      ],
      "metadata": {
        "id": "0HQ3SAshaYsB"
      },
      "execution_count": 78,
      "outputs": []
    },
    {
      "cell_type": "code",
      "source": [
        "video_moon = upload_video(video_1_moon)\n",
        "video_mushroom = upload_video(video_2_mushroom)"
      ],
      "metadata": {
        "colab": {
          "base_uri": "https://localhost:8080/"
        },
        "id": "tbb8V6hOa6SI",
        "outputId": "85fab26a-ff5f-41a6-8f0e-7ba53cf1fb7c"
      },
      "execution_count": 79,
      "outputs": [
        {
          "output_type": "stream",
          "name": "stdout",
          "text": [
            "Video Is Being Processed , Kindly Wait!\n",
            "Video processing complete: https://generativelanguage.googleapis.com/v1beta/files/e0iqb1c5vg6d\n",
            "Video Is Being Processed , Kindly Wait!\n",
            "Video processing complete: https://generativelanguage.googleapis.com/v1beta/files/nsrowedbmsh6\n"
          ]
        }
      ]
    },
    {
      "cell_type": "code",
      "source": [
        "def analyze_video_with_langchain(video_file):\n",
        "  prompt_template = \"\"\"\n",
        "  For each scene in this video,\n",
        "  generate captions that describe the scene along with any spoken text placed in quotation marks.\n",
        "  Place each caption into an object with the timecode of the caption in the video.\n",
        "         \"\"\"\n",
        "\n",
        "  response = client.models.generate_content(\n",
        "    model=\"gemini-2.0-flash-exp\",\n",
        "    contents=[\n",
        "        Content(\n",
        "            role=\"user\",\n",
        "            parts=[\n",
        "                Part.from_uri(\n",
        "                    file_uri=video_file.uri or \"\",\n",
        "                    mime_type=video_file.mime_type or \"\"),\n",
        "            ]),\n",
        "        Content(\n",
        "            role=\"user\",\n",
        "            parts=[Part(text=prompt_template)]\n",
        "        )\n",
        "    ]\n",
        "  )\n",
        "  print(\"Video Analysis:\")\n",
        "  display(Markdown(response.text))\n"
      ],
      "metadata": {
        "id": "7Dq6GKWubXpF"
      },
      "execution_count": 80,
      "outputs": []
    },
    {
      "cell_type": "code",
      "source": [
        "video_1 = video_moon\n",
        "analyze_video_with_langchain(video_1)"
      ],
      "metadata": {
        "colab": {
          "base_uri": "https://localhost:8080/",
          "height": 575
        },
        "id": "7jXKWl9enw0o",
        "outputId": "6b6e2684-00a7-4eb2-9484-021967dd8f37"
      },
      "execution_count": 81,
      "outputs": [
        {
          "output_type": "stream",
          "name": "stdout",
          "text": [
            "Video Analysis:\n"
          ]
        },
        {
          "output_type": "display_data",
          "data": {
            "text/plain": [
              "<IPython.core.display.Markdown object>"
            ],
            "text/markdown": "```json\n[\n  {\n    \"timecode\": \"00:00\",\n    \"caption\": \"A dark landscape with a large, golden moon and a starry night sky. A silhouette of a person and horse can be seen on top of a hill, along with a lone tree.\"\n  },\n  {\n   \"timecode\": \"00:01\",\n    \"caption\": \"A dark landscape with a large, golden moon and a starry night sky. A silhouette of a person and horse can be seen on top of a hill, along with a lone tree.\"\n  },\n  {\n    \"timecode\": \"00:02\",\n    \"caption\":\"A dark landscape with a large, golden moon and a starry night sky. A silhouette of a person and horse can be seen on top of a hill, along with a lone tree.\"\n  },\n  {\n    \"timecode\": \"00:03\",\n     \"caption\":\"A dark landscape with a large, golden moon and a starry night sky. A silhouette of a person and horse can be seen on top of a hill, along with a lone tree.\"\n  },\n  {\n   \"timecode\": \"00:04\",\n    \"caption\":\"A dark landscape with a large, golden moon and a starry night sky. A silhouette of a person and horse can be seen on top of a hill, along with a lone tree.\"\n  },\n  {\n    \"timecode\":\"00:05\",\n    \"caption\":\"A dark landscape with a large, golden moon and a starry night sky. A silhouette of a person and horse can be seen on top of a hill, along with a lone tree.\"\n  },\n    {\n    \"timecode\":\"00:06\",\n    \"caption\":\"A dark landscape with a large, golden moon and a starry night sky. A silhouette of a person and horse can be seen on top of a hill, along with a lone tree.\"\n  }\n]\n```\n"
          },
          "metadata": {}
        }
      ]
    },
    {
      "cell_type": "code",
      "source": [
        "video_2 = video_mushroom\n",
        "analyze_video_with_langchain(video_2)"
      ],
      "metadata": {
        "colab": {
          "base_uri": "https://localhost:8080/",
          "height": 1000
        },
        "id": "BjZlCMaBqCKn",
        "outputId": "c9fcfc8a-5dd7-4f8e-c176-1c5590ac2cf3"
      },
      "execution_count": 82,
      "outputs": [
        {
          "output_type": "stream",
          "name": "stdout",
          "text": [
            "Video Analysis:\n"
          ]
        },
        {
          "output_type": "display_data",
          "data": {
            "text/plain": [
              "<IPython.core.display.Markdown object>"
            ],
            "text/markdown": "```json\n[\n  {\n    \"timecode\": \"00:00\",\n    \"caption\": \"A luminous green mushroom with a broad, conical cap stands in the center of the frame, illuminated from within. It is surrounded by smaller, colorful flowers in a dark setting.\"\n  },\n  {\n    \"timecode\": \"00:01\",\n    \"caption\": \"The luminous mushroom is now glowing with a light blue color. The scene remains otherwise the same with colorful flowers around it in a dark setting.\"\n  },\n  {\n     \"timecode\": \"00:02\",\n    \"caption\": \"The luminous mushroom is now glowing with a light green color, the scene remains otherwise the same with colorful flowers around it in a dark setting.\"\n  },\n  {\n     \"timecode\": \"00:03\",\n    \"caption\":\"The luminous mushroom is now glowing with a light green color, the scene remains otherwise the same with colorful flowers around it in a dark setting.\"\n  },\n   {\n    \"timecode\": \"00:04\",\n    \"caption\": \"The luminous mushroom is now glowing with a light blue color. The scene remains otherwise the same with colorful flowers around it in a dark setting.\"\n  },\n  {\n    \"timecode\":\"00:05\",\n    \"caption\": \"The luminous mushroom is now glowing with a light blue color. The scene remains otherwise the same with colorful flowers around it in a dark setting.\"\n   },\n  {\n    \"timecode\": \"00:06\",\n    \"caption\": \"The luminous mushroom is now glowing with a light green color, the scene remains otherwise the same with colorful flowers around it in a dark setting.\"\n   },\n  {\n     \"timecode\":\"00:07\",\n     \"caption\":\"The luminous mushroom is now glowing with a light green color, the scene remains otherwise the same with colorful flowers around it in a dark setting.\"\n  },\n  {\n     \"timecode\":\"00:08\",\n    \"caption\": \"The luminous mushroom is now glowing with a light blue color. The scene remains otherwise the same with colorful flowers around it in a dark setting.\"\n   },\n   {\n     \"timecode\":\"00:09\",\n     \"caption\": \"The luminous mushroom is now glowing with a light green color, the scene remains otherwise the same with colorful flowers around it in a dark setting.\"\n   },\n  {\n    \"timecode\":\"00:10\",\n    \"caption\": \"The luminous mushroom is now glowing with a light blue color. The scene remains otherwise the same with colorful flowers around it in a dark setting.\"\n    },\n  {\n    \"timecode\": \"00:11\",\n    \"caption\": \"The luminous mushroom is now glowing with a light blue color. The scene remains otherwise the same with colorful flowers around it in a dark setting.\"\n   },\n  {\n     \"timecode\":\"00:12\",\n      \"caption\": \"The luminous mushroom is now glowing with a light blue color. The scene remains otherwise the same with colorful flowers around it in a dark setting.\"\n   },\n  {\n    \"timecode\": \"00:13\",\n    \"caption\":\"The luminous mushroom is now glowing with a light green color, the scene remains otherwise the same with colorful flowers around it in a dark setting.\"\n   },\n  {\n     \"timecode\":\"00:14\",\n    \"caption\": \"The luminous mushroom is now glowing with a light green color, the scene remains otherwise the same with colorful flowers around it in a dark setting.\"\n  }\n]\n```\n"
          },
          "metadata": {}
        }
      ]
    }
  ]
}